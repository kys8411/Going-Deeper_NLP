{
 "cells": [
  {
   "cell_type": "markdown",
   "id": "0e0a34fb",
   "metadata": {},
   "source": [
    "0. Import module, library"
   ]
  },
  {
   "cell_type": "code",
   "execution_count": 135,
   "id": "b1027cc0",
   "metadata": {},
   "outputs": [
    {
     "name": "stdout",
     "output_type": "stream",
     "text": [
      "2.6.0\n"
     ]
    }
   ],
   "source": [
    "import numpy as np\n",
    "import tensorflow as tf\n",
    "import matplotlib.pyplot as plt\n",
    "import pandas as pd\n",
    "from sklearn.model_selection import train_test_split\n",
    "\n",
    "import re\n",
    "import os\n",
    "import io\n",
    "import time\n",
    "import random\n",
    "\n",
    "import seaborn # Attention 시각화를 위해 필요!\n",
    "\n",
    "print(tf.__version__)"
   ]
  },
  {
   "cell_type": "markdown",
   "id": "8f6e3857",
   "metadata": {},
   "source": [
    "# 1. 데이터 다운로드"
   ]
  },
  {
   "cell_type": "code",
   "execution_count": 136,
   "id": "e723f109",
   "metadata": {},
   "outputs": [],
   "source": [
    "workspace_path = os.getenv('HOME')+'/aiffel/transformer_chatbot'\n",
    "data_path = os.getenv('HOME')+'/aiffel/transformer_chatbot/data'"
   ]
  },
  {
   "cell_type": "code",
   "execution_count": 137,
   "id": "8fffb6bc",
   "metadata": {},
   "outputs": [
    {
     "data": {
      "text/html": [
       "<div>\n",
       "<style scoped>\n",
       "    .dataframe tbody tr th:only-of-type {\n",
       "        vertical-align: middle;\n",
       "    }\n",
       "\n",
       "    .dataframe tbody tr th {\n",
       "        vertical-align: top;\n",
       "    }\n",
       "\n",
       "    .dataframe thead th {\n",
       "        text-align: right;\n",
       "    }\n",
       "</style>\n",
       "<table border=\"1\" class=\"dataframe\">\n",
       "  <thead>\n",
       "    <tr style=\"text-align: right;\">\n",
       "      <th></th>\n",
       "      <th>Q</th>\n",
       "      <th>A</th>\n",
       "      <th>label</th>\n",
       "    </tr>\n",
       "  </thead>\n",
       "  <tbody>\n",
       "    <tr>\n",
       "      <th>0</th>\n",
       "      <td>12시 땡!</td>\n",
       "      <td>하루가 또 가네요.</td>\n",
       "      <td>0</td>\n",
       "    </tr>\n",
       "    <tr>\n",
       "      <th>1</th>\n",
       "      <td>1지망 학교 떨어졌어</td>\n",
       "      <td>위로해 드립니다.</td>\n",
       "      <td>0</td>\n",
       "    </tr>\n",
       "    <tr>\n",
       "      <th>2</th>\n",
       "      <td>3박4일 놀러가고 싶다</td>\n",
       "      <td>여행은 언제나 좋죠.</td>\n",
       "      <td>0</td>\n",
       "    </tr>\n",
       "    <tr>\n",
       "      <th>3</th>\n",
       "      <td>3박4일 정도 놀러가고 싶다</td>\n",
       "      <td>여행은 언제나 좋죠.</td>\n",
       "      <td>0</td>\n",
       "    </tr>\n",
       "    <tr>\n",
       "      <th>4</th>\n",
       "      <td>PPL 심하네</td>\n",
       "      <td>눈살이 찌푸려지죠.</td>\n",
       "      <td>0</td>\n",
       "    </tr>\n",
       "  </tbody>\n",
       "</table>\n",
       "</div>"
      ],
      "text/plain": [
       "                 Q            A  label\n",
       "0           12시 땡!   하루가 또 가네요.      0\n",
       "1      1지망 학교 떨어졌어    위로해 드립니다.      0\n",
       "2     3박4일 놀러가고 싶다  여행은 언제나 좋죠.      0\n",
       "3  3박4일 정도 놀러가고 싶다  여행은 언제나 좋죠.      0\n",
       "4          PPL 심하네   눈살이 찌푸려지죠.      0"
      ]
     },
     "execution_count": 137,
     "metadata": {},
     "output_type": "execute_result"
    }
   ],
   "source": [
    "data = pd.read_csv(\"../data/ChatbotData.csv\")\n",
    "data.head()"
   ]
  },
  {
   "cell_type": "code",
   "execution_count": 138,
   "id": "2de37203",
   "metadata": {},
   "outputs": [
    {
     "data": {
      "text/plain": [
       "11823"
      ]
     },
     "execution_count": 138,
     "metadata": {},
     "output_type": "execute_result"
    }
   ],
   "source": [
    "len(data)"
   ]
  },
  {
   "cell_type": "markdown",
   "id": "f253b729",
   "metadata": {},
   "source": [
    "# 2. 데이터 정제"
   ]
  },
  {
   "cell_type": "code",
   "execution_count": 139,
   "id": "42597c94",
   "metadata": {},
   "outputs": [
    {
     "data": {
      "text/plain": [
       "Q        0\n",
       "A        0\n",
       "label    0\n",
       "dtype: int64"
      ]
     },
     "execution_count": 139,
     "metadata": {},
     "output_type": "execute_result"
    }
   ],
   "source": [
    "# 결측치 확인\n",
    "data.isnull().sum()"
   ]
  },
  {
   "cell_type": "code",
   "execution_count": 140,
   "id": "721db484",
   "metadata": {},
   "outputs": [],
   "source": [
    "# label 삭제\n",
    "data.drop(['label'], axis=1, inplace=True)"
   ]
  },
  {
   "cell_type": "code",
   "execution_count": 141,
   "id": "86511ac4",
   "metadata": {},
   "outputs": [
    {
     "data": {
      "text/html": [
       "<div>\n",
       "<style scoped>\n",
       "    .dataframe tbody tr th:only-of-type {\n",
       "        vertical-align: middle;\n",
       "    }\n",
       "\n",
       "    .dataframe tbody tr th {\n",
       "        vertical-align: top;\n",
       "    }\n",
       "\n",
       "    .dataframe thead th {\n",
       "        text-align: right;\n",
       "    }\n",
       "</style>\n",
       "<table border=\"1\" class=\"dataframe\">\n",
       "  <thead>\n",
       "    <tr style=\"text-align: right;\">\n",
       "      <th></th>\n",
       "      <th>Q</th>\n",
       "      <th>A</th>\n",
       "    </tr>\n",
       "  </thead>\n",
       "  <tbody>\n",
       "    <tr>\n",
       "      <th>0</th>\n",
       "      <td>12시 땡!</td>\n",
       "      <td>하루가 또 가네요.</td>\n",
       "    </tr>\n",
       "    <tr>\n",
       "      <th>1</th>\n",
       "      <td>1지망 학교 떨어졌어</td>\n",
       "      <td>위로해 드립니다.</td>\n",
       "    </tr>\n",
       "    <tr>\n",
       "      <th>2</th>\n",
       "      <td>3박4일 놀러가고 싶다</td>\n",
       "      <td>여행은 언제나 좋죠.</td>\n",
       "    </tr>\n",
       "    <tr>\n",
       "      <th>3</th>\n",
       "      <td>3박4일 정도 놀러가고 싶다</td>\n",
       "      <td>여행은 언제나 좋죠.</td>\n",
       "    </tr>\n",
       "    <tr>\n",
       "      <th>4</th>\n",
       "      <td>PPL 심하네</td>\n",
       "      <td>눈살이 찌푸려지죠.</td>\n",
       "    </tr>\n",
       "  </tbody>\n",
       "</table>\n",
       "</div>"
      ],
      "text/plain": [
       "                 Q            A\n",
       "0           12시 땡!   하루가 또 가네요.\n",
       "1      1지망 학교 떨어졌어    위로해 드립니다.\n",
       "2     3박4일 놀러가고 싶다  여행은 언제나 좋죠.\n",
       "3  3박4일 정도 놀러가고 싶다  여행은 언제나 좋죠.\n",
       "4          PPL 심하네   눈살이 찌푸려지죠."
      ]
     },
     "execution_count": 141,
     "metadata": {},
     "output_type": "execute_result"
    }
   ],
   "source": [
    "data.head()"
   ]
  },
  {
   "cell_type": "code",
   "execution_count": 142,
   "id": "f349cbc5",
   "metadata": {},
   "outputs": [
    {
     "name": "stdout",
     "output_type": "stream",
     "text": [
      "Q : 12시 땡!\n",
      "A : 하루가 또 가네요.\n",
      "\n",
      "Q : 1지망 학교 떨어졌어\n",
      "A : 위로해 드립니다.\n",
      "\n",
      "Q : 3박4일 놀러가고 싶다\n",
      "A : 여행은 언제나 좋죠.\n",
      "\n",
      "Q : 3박4일 정도 놀러가고 싶다\n",
      "A : 여행은 언제나 좋죠.\n",
      "\n",
      "Q : PPL 심하네\n",
      "A : 눈살이 찌푸려지죠.\n",
      "\n",
      "Q : SD카드 망가졌어\n",
      "A : 다시 새로 사는 게 마음 편해요.\n",
      "\n",
      "Q : SD카드 안돼\n",
      "A : 다시 새로 사는 게 마음 편해요.\n",
      "\n",
      "Q : SNS 맞팔 왜 안하지ㅠㅠ\n",
      "A : 잘 모르고 있을 수도 있어요.\n",
      "\n",
      "Q : SNS 시간낭비인 거 아는데 매일 하는 중\n",
      "A : 시간을 정하고 해보세요.\n",
      "\n",
      "Q : SNS 시간낭비인데 자꾸 보게됨\n",
      "A : 시간을 정하고 해보세요.\n",
      "\n"
     ]
    }
   ],
   "source": [
    "# 샘플 확인\n",
    "for i in range(10):\n",
    "    print('Q :', data['Q'][i])\n",
    "    print('A :', data['A'][i])    \n",
    "    print()"
   ]
  },
  {
   "cell_type": "code",
   "execution_count": 143,
   "id": "2e7ad8a6",
   "metadata": {},
   "outputs": [
    {
     "data": {
      "text/html": [
       "<div>\n",
       "<style scoped>\n",
       "    .dataframe tbody tr th:only-of-type {\n",
       "        vertical-align: middle;\n",
       "    }\n",
       "\n",
       "    .dataframe tbody tr th {\n",
       "        vertical-align: top;\n",
       "    }\n",
       "\n",
       "    .dataframe thead th {\n",
       "        text-align: right;\n",
       "    }\n",
       "</style>\n",
       "<table border=\"1\" class=\"dataframe\">\n",
       "  <thead>\n",
       "    <tr style=\"text-align: right;\">\n",
       "      <th></th>\n",
       "      <th>Q</th>\n",
       "      <th>A</th>\n",
       "    </tr>\n",
       "  </thead>\n",
       "  <tbody>\n",
       "    <tr>\n",
       "      <th>196</th>\n",
       "      <td>고양이 키우고 싶어</td>\n",
       "      <td>가족들과 상의해보세요.</td>\n",
       "    </tr>\n",
       "    <tr>\n",
       "      <th>235</th>\n",
       "      <td>공시 준비 힘들어</td>\n",
       "      <td>잘 될 거예요.</td>\n",
       "    </tr>\n",
       "    <tr>\n",
       "      <th>1294</th>\n",
       "      <td>돈 벌고 싶어</td>\n",
       "      <td>많이 벌수록 좋아요.</td>\n",
       "    </tr>\n",
       "    <tr>\n",
       "      <th>1445</th>\n",
       "      <td>로또 번호 알려줘</td>\n",
       "      <td>알면 제가 하죠.</td>\n",
       "    </tr>\n",
       "    <tr>\n",
       "      <th>1481</th>\n",
       "      <td>마음이 울적해</td>\n",
       "      <td>거리를 걸어보세요.</td>\n",
       "    </tr>\n",
       "    <tr>\n",
       "      <th>...</th>\n",
       "      <td>...</td>\n",
       "      <td>...</td>\n",
       "    </tr>\n",
       "    <tr>\n",
       "      <th>11642</th>\n",
       "      <td>착해서 잘해주는 건지 좋아하는 건지</td>\n",
       "      <td>헷갈린다고 말해보세요.</td>\n",
       "    </tr>\n",
       "    <tr>\n",
       "      <th>11649</th>\n",
       "      <td>첫 눈에 반하는게 가능해?</td>\n",
       "      <td>당연히 가능하죠.</td>\n",
       "    </tr>\n",
       "    <tr>\n",
       "      <th>11658</th>\n",
       "      <td>첫사랑 생각나</td>\n",
       "      <td>지금의 사랑에 충실하세요.</td>\n",
       "    </tr>\n",
       "    <tr>\n",
       "      <th>11732</th>\n",
       "      <td>커플여행이 나을까 그냥 우리끼리 갈까?</td>\n",
       "      <td>저는 둘이 가는 게 좋아요.</td>\n",
       "    </tr>\n",
       "    <tr>\n",
       "      <th>11819</th>\n",
       "      <td>훔쳐보는 것도 눈치 보임.</td>\n",
       "      <td>훔쳐보는 거 티나나봐요.</td>\n",
       "    </tr>\n",
       "  </tbody>\n",
       "</table>\n",
       "<p>161 rows × 2 columns</p>\n",
       "</div>"
      ],
      "text/plain": [
       "                           Q                A\n",
       "196               고양이 키우고 싶어     가족들과 상의해보세요.\n",
       "235                공시 준비 힘들어         잘 될 거예요.\n",
       "1294                 돈 벌고 싶어      많이 벌수록 좋아요.\n",
       "1445               로또 번호 알려줘        알면 제가 하죠.\n",
       "1481                 마음이 울적해       거리를 걸어보세요.\n",
       "...                      ...              ...\n",
       "11642    착해서 잘해주는 건지 좋아하는 건지     헷갈린다고 말해보세요.\n",
       "11649         첫 눈에 반하는게 가능해?        당연히 가능하죠.\n",
       "11658                첫사랑 생각나   지금의 사랑에 충실하세요.\n",
       "11732  커플여행이 나을까 그냥 우리끼리 갈까?  저는 둘이 가는 게 좋아요.\n",
       "11819         훔쳐보는 것도 눈치 보임.    훔쳐보는 거 티나나봐요.\n",
       "\n",
       "[161 rows x 2 columns]"
      ]
     },
     "execution_count": 143,
     "metadata": {},
     "output_type": "execute_result"
    }
   ],
   "source": [
    "# 중복 데이터 확인\n",
    "\n",
    "data[data.duplicated(['Q'])]"
   ]
  },
  {
   "cell_type": "code",
   "execution_count": 144,
   "id": "1a0c9d82",
   "metadata": {},
   "outputs": [
    {
     "data": {
      "text/html": [
       "<div>\n",
       "<style scoped>\n",
       "    .dataframe tbody tr th:only-of-type {\n",
       "        vertical-align: middle;\n",
       "    }\n",
       "\n",
       "    .dataframe tbody tr th {\n",
       "        vertical-align: top;\n",
       "    }\n",
       "\n",
       "    .dataframe thead th {\n",
       "        text-align: right;\n",
       "    }\n",
       "</style>\n",
       "<table border=\"1\" class=\"dataframe\">\n",
       "  <thead>\n",
       "    <tr style=\"text-align: right;\">\n",
       "      <th></th>\n",
       "      <th>Q</th>\n",
       "      <th>A</th>\n",
       "    </tr>\n",
       "  </thead>\n",
       "  <tbody>\n",
       "    <tr>\n",
       "      <th>11818</th>\n",
       "      <td>훔쳐보는 것도 눈치 보임.</td>\n",
       "      <td>티가 나니까 눈치가 보이는 거죠!</td>\n",
       "    </tr>\n",
       "    <tr>\n",
       "      <th>11819</th>\n",
       "      <td>훔쳐보는 것도 눈치 보임.</td>\n",
       "      <td>훔쳐보는 거 티나나봐요.</td>\n",
       "    </tr>\n",
       "  </tbody>\n",
       "</table>\n",
       "</div>"
      ],
      "text/plain": [
       "                    Q                   A\n",
       "11818  훔쳐보는 것도 눈치 보임.  티가 나니까 눈치가 보이는 거죠!\n",
       "11819  훔쳐보는 것도 눈치 보임.       훔쳐보는 거 티나나봐요."
      ]
     },
     "execution_count": 144,
     "metadata": {},
     "output_type": "execute_result"
    }
   ],
   "source": [
    "data[data['Q']==data['Q'][11819]] # 'data['Q'][11819]]' 값이 동일한 것 찾기 "
   ]
  },
  {
   "cell_type": "code",
   "execution_count": 145,
   "id": "479159f4",
   "metadata": {},
   "outputs": [
    {
     "data": {
      "text/html": [
       "<div>\n",
       "<style scoped>\n",
       "    .dataframe tbody tr th:only-of-type {\n",
       "        vertical-align: middle;\n",
       "    }\n",
       "\n",
       "    .dataframe tbody tr th {\n",
       "        vertical-align: top;\n",
       "    }\n",
       "\n",
       "    .dataframe thead th {\n",
       "        text-align: right;\n",
       "    }\n",
       "</style>\n",
       "<table border=\"1\" class=\"dataframe\">\n",
       "  <thead>\n",
       "    <tr style=\"text-align: right;\">\n",
       "      <th></th>\n",
       "      <th>Q</th>\n",
       "      <th>A</th>\n",
       "    </tr>\n",
       "  </thead>\n",
       "  <tbody>\n",
       "    <tr>\n",
       "      <th>3</th>\n",
       "      <td>3박4일 정도 놀러가고 싶다</td>\n",
       "      <td>여행은 언제나 좋죠.</td>\n",
       "    </tr>\n",
       "    <tr>\n",
       "      <th>6</th>\n",
       "      <td>SD카드 안돼</td>\n",
       "      <td>다시 새로 사는 게 마음 편해요.</td>\n",
       "    </tr>\n",
       "    <tr>\n",
       "      <th>9</th>\n",
       "      <td>SNS 시간낭비인데 자꾸 보게됨</td>\n",
       "      <td>시간을 정하고 해보세요.</td>\n",
       "    </tr>\n",
       "    <tr>\n",
       "      <th>12</th>\n",
       "      <td>가끔 뭐하는지 궁금해</td>\n",
       "      <td>그 사람도 그럴 거예요.</td>\n",
       "    </tr>\n",
       "    <tr>\n",
       "      <th>18</th>\n",
       "      <td>가스불 켜놓고 나온거 같아</td>\n",
       "      <td>빨리 집에 돌아가서 끄고 나오세요.</td>\n",
       "    </tr>\n",
       "    <tr>\n",
       "      <th>...</th>\n",
       "      <td>...</td>\n",
       "      <td>...</td>\n",
       "    </tr>\n",
       "    <tr>\n",
       "      <th>11806</th>\n",
       "      <td>혼자만 설레고 혼자서 끝내는 짝사랑 그만할래.</td>\n",
       "      <td>맘고생 많았어요.</td>\n",
       "    </tr>\n",
       "    <tr>\n",
       "      <th>11807</th>\n",
       "      <td>화이트데이에 고백할까요?</td>\n",
       "      <td>선물을 주면서 솔직하고 당당하게 고백해보세요.</td>\n",
       "    </tr>\n",
       "    <tr>\n",
       "      <th>11809</th>\n",
       "      <td>확실히 날 좋아하는 걸 아는 남자랑 친구가 될 수 있을까?</td>\n",
       "      <td>그 사람을 위해서는 그러면 안돼요.</td>\n",
       "    </tr>\n",
       "    <tr>\n",
       "      <th>11816</th>\n",
       "      <td>회식하는데 나만 챙겨줘. 썸임?</td>\n",
       "      <td>호감이 있을 수도 있어요. 그렇지만 조금 더 상황을 지켜보세요.</td>\n",
       "    </tr>\n",
       "    <tr>\n",
       "      <th>11822</th>\n",
       "      <td>힘들어서 결혼할까봐</td>\n",
       "      <td>도피성 결혼은 하지 않길 바라요.</td>\n",
       "    </tr>\n",
       "  </tbody>\n",
       "</table>\n",
       "<p>4044 rows × 2 columns</p>\n",
       "</div>"
      ],
      "text/plain": [
       "                                      Q                                    A\n",
       "3                       3박4일 정도 놀러가고 싶다                          여행은 언제나 좋죠.\n",
       "6                               SD카드 안돼                   다시 새로 사는 게 마음 편해요.\n",
       "9                     SNS 시간낭비인데 자꾸 보게됨                        시간을 정하고 해보세요.\n",
       "12                          가끔 뭐하는지 궁금해                        그 사람도 그럴 거예요.\n",
       "18                       가스불 켜놓고 나온거 같아                  빨리 집에 돌아가서 끄고 나오세요.\n",
       "...                                 ...                                  ...\n",
       "11806         혼자만 설레고 혼자서 끝내는 짝사랑 그만할래.                            맘고생 많았어요.\n",
       "11807                     화이트데이에 고백할까요?            선물을 주면서 솔직하고 당당하게 고백해보세요.\n",
       "11809  확실히 날 좋아하는 걸 아는 남자랑 친구가 될 수 있을까?                  그 사람을 위해서는 그러면 안돼요.\n",
       "11816                 회식하는데 나만 챙겨줘. 썸임?  호감이 있을 수도 있어요. 그렇지만 조금 더 상황을 지켜보세요.\n",
       "11822                        힘들어서 결혼할까봐                   도피성 결혼은 하지 않길 바라요.\n",
       "\n",
       "[4044 rows x 2 columns]"
      ]
     },
     "execution_count": 145,
     "metadata": {},
     "output_type": "execute_result"
    }
   ],
   "source": [
    "# 중복제거 \n",
    "\n",
    "data[data.duplicated(['A'])] # 11,823 행에서 -> 4,044 행으로 축소"
   ]
  },
  {
   "cell_type": "code",
   "execution_count": 146,
   "id": "630760f8",
   "metadata": {},
   "outputs": [
    {
     "data": {
      "text/html": [
       "<div>\n",
       "<style scoped>\n",
       "    .dataframe tbody tr th:only-of-type {\n",
       "        vertical-align: middle;\n",
       "    }\n",
       "\n",
       "    .dataframe tbody tr th {\n",
       "        vertical-align: top;\n",
       "    }\n",
       "\n",
       "    .dataframe thead th {\n",
       "        text-align: right;\n",
       "    }\n",
       "</style>\n",
       "<table border=\"1\" class=\"dataframe\">\n",
       "  <thead>\n",
       "    <tr style=\"text-align: right;\">\n",
       "      <th></th>\n",
       "      <th>Q</th>\n",
       "      <th>A</th>\n",
       "    </tr>\n",
       "  </thead>\n",
       "  <tbody>\n",
       "    <tr>\n",
       "      <th>2</th>\n",
       "      <td>3박4일 놀러가고 싶다</td>\n",
       "      <td>여행은 언제나 좋죠.</td>\n",
       "    </tr>\n",
       "    <tr>\n",
       "      <th>3</th>\n",
       "      <td>3박4일 정도 놀러가고 싶다</td>\n",
       "      <td>여행은 언제나 좋죠.</td>\n",
       "    </tr>\n",
       "  </tbody>\n",
       "</table>\n",
       "</div>"
      ],
      "text/plain": [
       "                 Q            A\n",
       "2     3박4일 놀러가고 싶다  여행은 언제나 좋죠.\n",
       "3  3박4일 정도 놀러가고 싶다  여행은 언제나 좋죠."
      ]
     },
     "execution_count": 146,
     "metadata": {},
     "output_type": "execute_result"
    }
   ],
   "source": [
    "data[data['A']==data['A'][3]] # 중복 확인"
   ]
  },
  {
   "cell_type": "code",
   "execution_count": 147,
   "id": "031aa74c",
   "metadata": {},
   "outputs": [
    {
     "data": {
      "text/html": [
       "<div>\n",
       "<style scoped>\n",
       "    .dataframe tbody tr th:only-of-type {\n",
       "        vertical-align: middle;\n",
       "    }\n",
       "\n",
       "    .dataframe tbody tr th {\n",
       "        vertical-align: top;\n",
       "    }\n",
       "\n",
       "    .dataframe thead th {\n",
       "        text-align: right;\n",
       "    }\n",
       "</style>\n",
       "<table border=\"1\" class=\"dataframe\">\n",
       "  <thead>\n",
       "    <tr style=\"text-align: right;\">\n",
       "      <th></th>\n",
       "      <th>Q</th>\n",
       "      <th>A</th>\n",
       "    </tr>\n",
       "  </thead>\n",
       "  <tbody>\n",
       "    <tr>\n",
       "      <th>5</th>\n",
       "      <td>SD카드 망가졌어</td>\n",
       "      <td>다시 새로 사는 게 마음 편해요.</td>\n",
       "    </tr>\n",
       "    <tr>\n",
       "      <th>6</th>\n",
       "      <td>SD카드 안돼</td>\n",
       "      <td>다시 새로 사는 게 마음 편해요.</td>\n",
       "    </tr>\n",
       "  </tbody>\n",
       "</table>\n",
       "</div>"
      ],
      "text/plain": [
       "           Q                   A\n",
       "5  SD카드 망가졌어  다시 새로 사는 게 마음 편해요.\n",
       "6    SD카드 안돼  다시 새로 사는 게 마음 편해요."
      ]
     },
     "execution_count": 147,
     "metadata": {},
     "output_type": "execute_result"
    }
   ],
   "source": [
    "data[data['A']==data['A'][6]] # 중복 확인"
   ]
  },
  {
   "cell_type": "code",
   "execution_count": 148,
   "id": "0b9f5b00",
   "metadata": {},
   "outputs": [
    {
     "data": {
      "text/plain": [
       "7779"
      ]
     },
     "execution_count": 148,
     "metadata": {},
     "output_type": "execute_result"
    }
   ],
   "source": [
    "# 'A'행 중복 데이터 추가 제거 \n",
    "\n",
    "data.drop_duplicates(['A'], inplace=True)\n",
    "len(data)"
   ]
  },
  {
   "cell_type": "code",
   "execution_count": 149,
   "id": "63fee4ce",
   "metadata": {},
   "outputs": [
    {
     "data": {
      "text/plain": [
       "7727"
      ]
     },
     "execution_count": 149,
     "metadata": {},
     "output_type": "execute_result"
    }
   ],
   "source": [
    "# 'Q'행 중복 데이터 추가 제거\n",
    "\n",
    "data.drop_duplicates(['Q'], inplace=True)\n",
    "len(data)"
   ]
  },
  {
   "cell_type": "code",
   "execution_count": 150,
   "id": "ca65aec4",
   "metadata": {},
   "outputs": [
    {
     "name": "stdout",
     "output_type": "stream",
     "text": [
      "total data length : 7727\n"
     ]
    }
   ],
   "source": [
    "print('total data length :', len(data))"
   ]
  },
  {
   "cell_type": "code",
   "execution_count": 151,
   "id": "2d238222",
   "metadata": {},
   "outputs": [],
   "source": [
    "# 데이터 전처리\n",
    "\n",
    "def preprocess_sentence(sentence):\n",
    "    \n",
    "    sentence = sentence.lower().strip()                                  # 소문자로 변경하고 양쪽 끝 공백 제거\n",
    "    sentence = re.sub(r'[\" \"]+', \" \", sentence)                          # re.sub() 정규 표현식을 사용하여 문자열에 패턴 찾아 대체\n",
    "    sentence = re.sub(r\"[^a-zA-Z?.!가-힣ㄱ-ㅎㅏ-ㅣ0-9]+\", \" \", sentence) # re.sub() 함수를 사용하여, 영어, 특수문자, 한글, 숫자를 제외한 모든 문자를 공백으로 대체\n",
    "    sentence = sentence.strip()                                          # 이전 공백으로 대체한 공백을 다시 제거\n",
    "    \n",
    "    return sentence # 깔끔하게 전처리 완료"
   ]
  },
  {
   "cell_type": "code",
   "execution_count": 152,
   "id": "06ec222a",
   "metadata": {
    "scrolled": true
   },
   "outputs": [
    {
     "name": "stdout",
     "output_type": "stream",
     "text": [
      "questions data size : 7727\n",
      "answers data size : 7727\n",
      "\n",
      "Q : 12시 땡!\n",
      "A : 하루가 또 가네요.\n",
      "\n",
      "Q : 1지망 학교 떨어졌어\n",
      "A : 위로해 드립니다.\n",
      "\n",
      "Q : 3박4일 놀러가고 싶다\n",
      "A : 여행은 언제나 좋죠.\n",
      "\n",
      "Q : ppl 심하네\n",
      "A : 눈살이 찌푸려지죠.\n",
      "\n",
      "Q : sd카드 망가졌어\n",
      "A : 다시 새로 사는 게 마음 편해요.\n",
      "\n",
      "Q : sns 맞팔 왜 안하지ㅠㅠ\n",
      "A : 잘 모르고 있을 수도 있어요.\n",
      "\n",
      "Q : sns 시간낭비인 거 아는데 매일 하는 중\n",
      "A : 시간을 정하고 해보세요.\n",
      "\n",
      "Q : sns보면 나만 빼고 다 행복해보여\n",
      "A : 자랑하는 자리니까요.\n",
      "\n",
      "Q : 가끔 궁금해\n",
      "A : 그 사람도 그럴 거예요.\n",
      "\n",
      "Q : 가끔은 혼자인게 좋다\n",
      "A : 혼자를 즐기세요.\n",
      "\n"
     ]
    }
   ],
   "source": [
    "# 깔끔하게 전처리되고 Q, A 길이까지 정리된 모습\n",
    "\n",
    "questions = [preprocess_sentence(q) for q in data['Q']]\n",
    "answers = [preprocess_sentence(a) for a in data['A']]\n",
    "\n",
    "print('questions data size :', len(questions))\n",
    "print('answers data size :', len(answers))\n",
    "print()\n",
    "for i in range(10):\n",
    "    print('Q :', questions[i])\n",
    "    print('A :', answers[i])    \n",
    "    print()"
   ]
  },
  {
   "cell_type": "code",
   "execution_count": 153,
   "id": "5c551902",
   "metadata": {},
   "outputs": [],
   "source": [
    "# 파일 저장\n",
    "# 텍스트 파일을 생성하고, 주어진 말뭉치를 기록하는 역할을 함.\n",
    "# 텍스트 파일('lang')을 생성하고, 주어진 말뭉치('corpus')를 기록.\n",
    "# 파일의 이름은 {data_dir}/{lang}.txt 형식을 따름.\n",
    "\n",
    "\n",
    "def make_txt(corpus, lang):\n",
    "    with open(f'{data_dir}/{lang}.txt', 'w') as f:  \n",
    "        # 파일을 쓰기모드('w'), data_dir 디렉토리 내에 위치, 파일 이름은 주어진 언어('lang')에 따라 결정\n",
    "        for sen in corpus:\n",
    "            f.write(str(sen) + '\\n')\n",
    "            # 각 문장(sen)을 문자열로 변환하고(str(sen)) 파일에 쓴 후 줄바꿈 문자('\\n') 추가하여 다음 문장에 기록 \n",
    "    f.close()\n",
    "    print(f.name)\n",
    "    return f.name"
   ]
  },
  {
   "cell_type": "code",
   "execution_count": 154,
   "id": "ba8624b4",
   "metadata": {},
   "outputs": [],
   "source": [
    "# 이걸 왜 만들었지?!!\n",
    "\n",
    "# enc_path = make_txt(enc_corpus, lang='kor')\n",
    "# dec_path = make_txt(dec_corpus, lang='eng')"
   ]
  },
  {
   "cell_type": "markdown",
   "id": "05e20fd9",
   "metadata": {},
   "source": [
    "# 3. 데이터 토큰화"
   ]
  },
  {
   "cell_type": "code",
   "execution_count": 155,
   "id": "a60f9b81",
   "metadata": {},
   "outputs": [],
   "source": [
    "## 토큰화와 패딩 작업을 수행 → 자연어 문장을 모델이 이해하고 처리할 수 있는 형태로 변환 \n",
    "\n",
    "from konlpy.tag import Mecab                                          \n",
    "\n",
    "\n",
    "def tokenize(corpus, vocab_size=50000):\n",
    "    mecab = Mecab() # Mecab, 한국어 형태소 분석기         \n",
    "    morph = [\" \".join(mecab.morphs(sen)) for sen in corpus] \n",
    "    # Mecab의 'morphs' 메소드를 사용해 형태소 분석 수행 그 결과를 공백으로 연결하여 하나의 문자열로 \n",
    "\n",
    "    tokenizer = tf.keras.preprocessing.text.Tokenizer(filters='',\n",
    "                                                     num_words=vocab_size)\n",
    "    # keras의 Tokenizer 클래스를 사용하여 단어 토큰화 수행\n",
    "    # 'num_words'는 토큰화 과정에서 사용할 최대 단어의 개수 설정\n",
    "\n",
    "    tokenizer.fit_on_texts(morph)\n",
    "    # 토큰화 해야하는 문장에 대해 Tokenizer 객체를 학습\n",
    "\n",
    "    tensor = tokenizer.texts_to_sequences(morph)\n",
    "    # Tokenizer의 'text_to_sequeces' 메소드를 사용하여 각 문장을 정수 시퀀스로 변환\n",
    "    \n",
    "    tensor = tf.keras.preprocessing.sequence.pad_sequences(tensor, padding='post')\n",
    "    # 'ped_sequences' 메소드를 사용하여 각 시퀀스(문장)의 길이를 동일하게 맞춰줌.\n",
    "    # padding = 'post'는 패딩을 시퀀스 뒤쪽에 추가\n",
    "\n",
    "        \n",
    "    return tensor, tokenizer, morph\n",
    "    # 변환된 텐서, 토큰화에 사용된 tokenizer, 형태소 분석 결과 반환"
   ]
  },
  {
   "cell_type": "markdown",
   "id": "31a0223b",
   "metadata": {},
   "source": [
    "# 4. 데이터 증강"
   ]
  },
  {
   "cell_type": "code",
   "execution_count": 156,
   "id": "7a2813bc",
   "metadata": {},
   "outputs": [
    {
     "data": {
      "text/plain": [
       "'/aiffel/aiffel/transformer_chatbot/data'"
      ]
     },
     "execution_count": 156,
     "metadata": {},
     "output_type": "execute_result"
    }
   ],
   "source": [
    "data_path"
   ]
  },
  {
   "cell_type": "code",
   "execution_count": 157,
   "id": "9f5a8a21",
   "metadata": {},
   "outputs": [],
   "source": [
    "w2v_path = data_path + '/ko.bin'"
   ]
  },
  {
   "cell_type": "code",
   "execution_count": 158,
   "id": "8684bdd0",
   "metadata": {},
   "outputs": [],
   "source": [
    "# gensim 불러오기가 계속 오류나서 시간 뻇김\n",
    "\n",
    "\n",
    "# from gensim.models.word2vec import Word2Vec\n",
    "# wv_model = Word2Vec.load(w2v_path)"
   ]
  },
  {
   "cell_type": "code",
   "execution_count": 159,
   "id": "8c137e9f",
   "metadata": {},
   "outputs": [],
   "source": [
    "from gensim.models.keyedvectors import Word2VecKeyedVectors\n",
    "wv_model = Word2VecKeyedVectors.load('/aiffel/data/word2vec_ko.model')"
   ]
  },
  {
   "cell_type": "code",
   "execution_count": 160,
   "id": "8e492d67",
   "metadata": {},
   "outputs": [
    {
     "data": {
      "text/plain": [
       "[('매일', 0.6635749936103821),\n",
       " ('아침', 0.6332581639289856),\n",
       " ('시간', 0.6326238512992859),\n",
       " ('퇴근', 0.6313952803611755),\n",
       " ('보름', 0.6304587125778198),\n",
       " ('열흘', 0.626101553440094),\n",
       " ('반년', 0.6156684160232544),\n",
       " ('반나절', 0.6124287247657776),\n",
       " ('밤', 0.6106317043304443),\n",
       " ('이틀', 0.6030983924865723)]"
      ]
     },
     "execution_count": 160,
     "metadata": {},
     "output_type": "execute_result"
    }
   ],
   "source": [
    "wv_model.wv.most_similar(positive='하루', topn=10)"
   ]
  },
  {
   "cell_type": "code",
   "execution_count": 161,
   "id": "602fa3f3",
   "metadata": {},
   "outputs": [
    {
     "data": {
      "text/plain": [
       "array([ 3.4107115 , -1.1983304 ,  3.0812438 ,  2.2242346 , -0.17618921,\n",
       "       -2.1063247 ,  2.2153187 ,  0.8750669 , -0.51959753, -0.5217767 ,\n",
       "       -1.6041174 ,  0.0489326 ,  0.10208491, -3.3342006 , -2.1667967 ,\n",
       "        1.4122443 ,  1.2402686 ,  0.16979106,  1.8354017 ,  1.5598876 ,\n",
       "       -2.4736938 ,  1.2335609 ,  0.32076317, -0.6427263 , -1.5151329 ,\n",
       "       -1.0098913 , -1.0104748 , -0.28930202,  2.35188   , -0.6010162 ,\n",
       "       -2.1898339 ,  2.0393732 , -0.4712875 ,  0.44534144,  3.380081  ,\n",
       "       -0.0361988 ,  0.7425784 ,  0.35870308, -2.0619228 ,  1.6251751 ,\n",
       "        0.751604  ,  0.7271253 , -1.8895692 , -0.33305213, -2.7046776 ,\n",
       "       -0.88320017, -0.91837466, -1.0607344 ,  3.1014934 , -0.47572172,\n",
       "        0.7655098 ,  1.2335111 ,  0.15673797,  0.5468275 , -1.4003606 ,\n",
       "       -0.23191464,  0.5468947 ,  2.016602  ,  2.2702746 ,  3.1519432 ,\n",
       "        0.16185166,  0.34010816, -1.1395248 , -2.2745152 ,  1.073325  ,\n",
       "       -2.7888043 , -0.38226172, -0.6075256 ,  4.0218983 , -2.0768719 ,\n",
       "        0.3832595 ,  2.985564  , -0.9662148 , -3.1140409 , -0.5963264 ,\n",
       "        0.26267293,  2.2659802 , -1.2622832 ,  0.4231625 , -2.0674582 ,\n",
       "        1.7486036 ,  0.72598165, -3.4813669 ,  6.5810075 , -0.01037815,\n",
       "       -1.1331514 , -0.8294134 , -0.18634269,  1.6366524 , -2.6133895 ,\n",
       "       -4.49921   , -1.0604253 ,  1.9546549 , -2.118395  ,  1.6714118 ,\n",
       "       -2.8204927 ,  1.3437815 ,  1.5938492 ,  3.1476774 , -1.6342888 ],\n",
       "      dtype=float32)"
      ]
     },
     "execution_count": 161,
     "metadata": {},
     "output_type": "execute_result"
    }
   ],
   "source": [
    "# 단어 벡터 변환\n",
    "\n",
    "wv_model.wv['하루']"
   ]
  },
  {
   "cell_type": "code",
   "execution_count": 162,
   "id": "5c963ebc",
   "metadata": {},
   "outputs": [
    {
     "data": {
      "text/plain": [
       "[('중퇴', 0.7482234835624695),\n",
       " ('전공', 0.728223979473114),\n",
       " ('자퇴', 0.7157790660858154),\n",
       " ('졸업', 0.7004087567329407),\n",
       " ('가르치', 0.6782639622688293),\n",
       " ('수료', 0.6718839406967163),\n",
       " ('수학', 0.6572521328926086),\n",
       " ('유학', 0.6553082466125488),\n",
       " ('입학', 0.6530455350875854),\n",
       " ('집필', 0.6526979207992554)]"
      ]
     },
     "execution_count": 162,
     "metadata": {},
     "output_type": "execute_result"
    }
   ],
   "source": [
    "# 유사한 단어 출력(코사인 유사도)\n",
    "wv_model.wv.most_similar('공부')"
   ]
  },
  {
   "cell_type": "code",
   "execution_count": 163,
   "id": "bd39a68f",
   "metadata": {},
   "outputs": [
    {
     "name": "stdout",
     "output_type": "stream",
     "text": [
      "['가끔', '궁금해']\n"
     ]
    }
   ],
   "source": [
    "# 단어장에 단어가 있는지 확인해보기 \n",
    "\n",
    "for tok in sample_tokens:\n",
    "    if tok is selected_tok:\n",
    "        if tok in wv_model.wv:  # 단어장에 단어가 있는지 확인\n",
    "            result += wv_model.wv.most_similar(tok)[0][0] + \" \"\n",
    "        else:\n",
    "            result += tok + \" \"  # 단어장에 없는 경우, 원래 단어 사용\n",
    "    else:\n",
    "        result += tok + \" \"\n",
    "\n",
    "print(sample_tokens)"
   ]
  },
  {
   "cell_type": "code",
   "execution_count": 172,
   "id": "d3322cb2",
   "metadata": {},
   "outputs": [
    {
     "name": "stdout",
     "output_type": "stream",
     "text": [
      "From: 가끔 궁금해\n",
      "To: 이따금 궁금해 \n"
     ]
    }
   ],
   "source": [
    "import random\n",
    "\n",
    "sample_sentence = \"가끔 궁금해\"\n",
    "sample_tokens = sample_sentence.split()\n",
    "\n",
    "selected_tok = random.choice(sample_tokens)\n",
    "\n",
    "result = \"\"\n",
    "for tok in sample_tokens:\n",
    "    if tok is selected_tok:\n",
    "        result += wv_model.wv.most_similar(tok)[0][0] + \" \"\n",
    "\n",
    "    else:\n",
    "        result += tok + \" \"\n",
    "\n",
    "print(\"From:\", sample_sentence)\n",
    "print(\"To:\", result)"
   ]
  },
  {
   "cell_type": "code",
   "execution_count": 165,
   "id": "a02fdef6",
   "metadata": {},
   "outputs": [],
   "source": [
    "# 입력된 문장('sentence')의 임의의 단어를 해당 단어와 가장 유사한 단어로 바꾸는 \n",
    "# \"lexical substitution(어휘 대체)\" 작업을 수행하는 함수\n",
    "# 이 수행은 데이터 증강(data augmentation)의 한 방법으로, 텍스트를 다양하게 만들어 \n",
    "# 모델의 일반화 성능을 향상시키는 데 도움이 됨.\n",
    "\n",
    "def lexical_sub(sentence, word2vec):\n",
    "    import random\n",
    "\n",
    "    res = \"\"  # 결과가 저장\n",
    "    toks = sentence.split()  # 입력된 문장을 공백을 기준으로 나눠 각 단어를 'toks'라는 리스트에 저장\n",
    "\n",
    "    try:  \n",
    "        _from = random.choice(toks)\n",
    "        _to = word2vec.most_similar(_from)[0][0]\n",
    "        # 이 부분에서는 'toks'에서 임의의 단어를 선택하여 그 단어와 가장 유사한 단어를 찾는 역할 \n",
    "        # 없으면 'None'을 반환하고 함수를 종료\n",
    "        \n",
    "    except:   # 단어장에 없는 단어\n",
    "        return None\n",
    "\n",
    "    for tok in toks:\n",
    "        if tok is _from: res += _to + \" \"\n",
    "        else: res += tok + \" \"\n",
    "        # 각 단어에 대해 반본 작업을 수행, 현재 단어가 선택된 단어와 같다면, \n",
    "        # 단어를 가장 유사한 단어로 바꿔 'res'에 추가 \n",
    "        # 현재 단어가 선택된 단어와 다르면, 원래 단어를 'res'를 반환\n",
    "            \n",
    "    return res\n",
    "    # 마지막으로 수정된 문장 'res'를 반환"
   ]
  },
  {
   "cell_type": "code",
   "execution_count": 166,
   "id": "24ae422b",
   "metadata": {},
   "outputs": [],
   "source": [
    "# 원래의 말뭉치('src_corpus'와 'tgt_corpus')를 받아서, 이를 'lexical substitution' 기법인 'lexical_sub' 함수를 \n",
    "# 사용해 데이터 증강(data augmentation)을 수행하고, 증강된 말뭉치('new_src_corpus'와 'new_tgt_corpus')를 반환\n",
    "\n",
    "\n",
    "from tqdm import tqdm_notebook\n",
    "\n",
    "def augment_corpus(src_corpus, tgt_corpus, wv):\n",
    "    new_src_corpus = []  # 증강된 문장들을 담을 새로운 말뭉치를 빈 리스트로 초기화\n",
    "    new_tgt_corpus = []  # 증강된 문장들을 담을 새로운 말뭉치를 빈 리스트로 초기화\n",
    "    corpus_size = len(src_corpus)\n",
    "    \n",
    "    for i in tqdm_notebook(range(corpus_size)):  \n",
    "        # 'tqdm_notebook'을 사용해 전체 말뭉치 크기('corpus_size')만큼 반복문을 돌며, \n",
    "        # 각 문장에 대해 데이터 증강을 수행, 시각적으로 보여주는데 도움이 됨.\n",
    "        \n",
    "        old_src = src_corpus[i]\n",
    "        old_tgt = tgt_corpus[i]\n",
    "        # 현재 인덱스(i)에 해당하는 원래의 소스 문장('old_src')과 타겟 문장('old_tgt')를 가져온다. \n",
    "\n",
    "        new_src = lexical_sub(old_src, wv)\n",
    "        new_tgt = lexical_sub(old_tgt, wv)\n",
    "        # 원래의 소스문장과 타겟문장을 'lexical_sub' 함수에 적용해 증강된 문장(new_src와 new_tgt)을 생성\n",
    "\n",
    "        if new_src: \n",
    "            new_src_corpus.append(new_src)\n",
    "            new_tgt_corpus.append(old_tgt)\n",
    "            \n",
    "        if new_tgt: \n",
    "            new_src_corpus.append(old_src)\n",
    "            new_tgt_corpus.append(new_tgt)\n",
    "        #  증강된 소스 문장(new_src)나 타겟 문장(new_tgt)이 None이 아니라면 (즉, 증강이 성공적으로 이루어졌다면), \n",
    "        # 이를 새로운 말뭉치(new_src_corpus와 new_tgt_corpus)에 추가\n",
    "        # 소스 문장이 증가되었을 경우, 원래의 타겟 문장을, 타겟 문장이 증강되었을 경우 원래의 소스 문장을 쌍으로 유지    \n",
    "\n",
    "    # print(new_corpus[:10])\n",
    "    return new_src_corpus, new_tgt_corpus\n",
    "    # 증강된 소스 말충치와 타겟 말뭉치를 반환"
   ]
  },
  {
   "cell_type": "code",
   "execution_count": 167,
   "id": "3f7e6234",
   "metadata": {},
   "outputs": [],
   "source": [
    "# 'tokenize' 함수는 입력된 말뭉치('questions' 또는 'answers')를 토크나이징(단어 단위로 분할)하고,\n",
    "# 이를 숫자로 변환하는 작업을 수행, '_'는 반환값을 무시하겠다는 의미\n",
    "# 이 코드는 questions와 answers 말뭉치를 토크나이징하여 각각 src_corpus_tokenized와 tgt_corpus_tokenized에 저장\n",
    "\n",
    "_, _, src_corpus_tokenized = tokenize(questions)\n",
    "# 'questions' 말뭉치를 토크나이징한 결과인 'src_corpus_tokenized'를 얻는다. \n",
    "\n",
    "_, _, tgt_corpus_tokenized = tokenize(answers)\n",
    "# 'answers' 말뭉치를 토크나이징한 결과인 'tgt_corpus_tokenized'를 얻는다. \n"
   ]
  },
  {
   "cell_type": "code",
   "execution_count": 168,
   "id": "fc16e04a",
   "metadata": {
    "scrolled": true
   },
   "outputs": [
    {
     "data": {
      "text/plain": [
       "['12 시 땡 !',\n",
       " '1 지망 학교 떨어졌 어',\n",
       " '3 박 4 일 놀 러 가 고 싶 다',\n",
       " 'ppl 심하 네',\n",
       " 'sd 카드 망가졌 어',\n",
       " 'sns 맞 팔 왜 안 하 지 ㅠㅠ',\n",
       " 'sns 시간 낭비 인 거 아 는데 매일 하 는 중',\n",
       " 'sns 보 면 나 만 빼 고 다 행복 해 보여',\n",
       " '가끔 궁금 해',\n",
       " '가끔 은 혼자 인 게 좋 다']"
      ]
     },
     "execution_count": 168,
     "metadata": {},
     "output_type": "execute_result"
    }
   ],
   "source": [
    "src_corpus_tokenized[:10]"
   ]
  },
  {
   "cell_type": "code",
   "execution_count": 169,
   "id": "2382efcc",
   "metadata": {
    "scrolled": false
   },
   "outputs": [
    {
     "data": {
      "text/plain": [
       "['하루 가 또 가 네요 .',\n",
       " '위로 해 드립니다 .',\n",
       " '여행 은 언제나 좋 죠 .',\n",
       " '눈살 이 찌푸려 지 죠 .',\n",
       " '다시 새로 사 는 게 마음 편해요 .',\n",
       " '잘 모르 고 있 을 수 도 있 어요 .',\n",
       " '시간 을 정하 고 해 보 세요 .',\n",
       " '자랑 하 는 자리 니까요 .',\n",
       " '그 사람 도 그럴 거 예요 .',\n",
       " '혼자 를 즐기 세요 .']"
      ]
     },
     "execution_count": 169,
     "metadata": {},
     "output_type": "execute_result"
    }
   ],
   "source": [
    "tgt_corpus_tokenized[:10]"
   ]
  },
  {
   "cell_type": "code",
   "execution_count": 170,
   "id": "6e4df300",
   "metadata": {
    "scrolled": false
   },
   "outputs": [
    {
     "name": "stderr",
     "output_type": "stream",
     "text": [
      "/tmp/ipykernel_38/2144691072.py:12: TqdmDeprecationWarning: This function will be removed in tqdm==5.0.0\n",
      "Please use `tqdm.notebook.tqdm` instead of `tqdm.tqdm_notebook`\n",
      "  for i in tqdm_notebook(range(corpus_size)):\n"
     ]
    },
    {
     "data": {
      "application/vnd.jupyter.widget-view+json": {
       "model_id": "c186ab7ae69e4d81845370361f45d5b1",
       "version_major": 2,
       "version_minor": 0
      },
      "text/plain": [
       "  0%|          | 0/7727 [00:00<?, ?it/s]"
      ]
     },
     "metadata": {},
     "output_type": "display_data"
    }
   ],
   "source": [
    "# augment_corpus 함수를 사용하여 src_corpus_tokenized와 tgt_corpus_tokenized 데이터에 대해 \n",
    "# 'lexical substitution' 기법을 이용한 데이터 증강을 수행\n",
    "\n",
    "new_src_corpus, new_tgt_corpus = augment_corpus(src_corpus_tokenized, tgt_corpus_tokenized, wv_model)\n",
    "# 'augment_corpus' 함수에 토크나이징된 원본 말뭉치(src_corpus_tokenized, tgt_corpus_tokenized)와 \n",
    "# Word2Vec('mv_model')을 인자로 전달하고, 증강된 말뭉치('new_scr_corpus', 'new_tgt_corpus')를 반환한다."
   ]
  },
  {
   "cell_type": "code",
   "execution_count": 171,
   "id": "4e8823ea",
   "metadata": {},
   "outputs": [
    {
     "name": "stdout",
     "output_type": "stream",
     "text": [
      "0 0\n"
     ]
    }
   ],
   "source": [
    "print(len(new_src_corpus), len(new_tgt_corpus))"
   ]
  },
  {
   "cell_type": "code",
   "execution_count": null,
   "id": "f59cc272",
   "metadata": {},
   "outputs": [],
   "source": []
  }
 ],
 "metadata": {
  "kernelspec": {
   "display_name": "Python 3 (ipykernel)",
   "language": "python",
   "name": "python3"
  },
  "language_info": {
   "codemirror_mode": {
    "name": "ipython",
    "version": 3
   },
   "file_extension": ".py",
   "mimetype": "text/x-python",
   "name": "python",
   "nbconvert_exporter": "python",
   "pygments_lexer": "ipython3",
   "version": "3.9.7"
  }
 },
 "nbformat": 4,
 "nbformat_minor": 5
}
